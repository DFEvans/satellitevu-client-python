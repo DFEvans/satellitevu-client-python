{
 "cells": [
  {
   "cell_type": "markdown",
   "metadata": {},
   "source": [
    "# Satellite Vu Python SDK"
   ]
  },
  {
   "cell_type": "markdown",
   "metadata": {},
   "source": [
    "## Installation\n",
    "\n",
    "Python 3.8 or higher is required for this package to work. To install the package from PyPi run: `pip install satellitevu`"
   ]
  },
  {
   "cell_type": "markdown",
   "metadata": {},
   "source": [
    "If the package can't be installed straight off the bat, you may need to install any extra dependencies our sdk needs first. The most common is having to install the appdirs pachage (`pip install appdirs`)."
   ]
  },
  {
   "cell_type": "markdown",
   "metadata": {},
   "source": [
    "## Setup\n",
    "\n",
    "To use the package you first need to have access to the Satellite Vu API by creating a client credential set.\n",
    "\n",
    "1. Log into https://id.qa.satellitevu.com/\n",
    "\n",
    "2. Click the create client to obtain a client_id and client_secret. The client_secret will only be visible now so copy it and keep it secure!\n",
    "    - If you already have a client but have forgotten the secret, click Rotate Secret\n",
    "\n"
   ]
  },
  {
   "cell_type": "markdown",
   "metadata": {},
   "source": [
    "These will be used to authenticate your access to the API. You can either set them as environment variables in the shell or in your Python script e.g.\n",
    "\n",
    "**Important: When your client is initially created, you will only have access to the Archive Search. To be able to submit and download orders, please ask one of the Platform team to authorize you for performing these actions.**"
   ]
  },
  {
   "cell_type": "code",
   "execution_count": 1,
   "metadata": {
    "vscode": {
     "languageId": "powershell"
    }
   },
   "outputs": [
    {
     "ename": "SyntaxError",
     "evalue": "invalid syntax (898400381.py, line 3)",
     "output_type": "error",
     "traceback": [
      "\u001b[0;36m  Cell \u001b[0;32mIn [1], line 3\u001b[0;36m\u001b[0m\n\u001b[0;31m    set CLIENT_ID=<client_id>\u001b[0m\n\u001b[0m        ^\u001b[0m\n\u001b[0;31mSyntaxError\u001b[0m\u001b[0;31m:\u001b[0m invalid syntax\n"
     ]
    }
   ],
   "source": [
    "# Windows CMD Line\n",
    "\n",
    "set CLIENT_ID=<client_id>\n",
    "set CLIENT_SECRET=<client_secret>"
   ]
  },
  {
   "cell_type": "code",
   "execution_count": null,
   "metadata": {
    "vscode": {
     "languageId": "shellscript"
    }
   },
   "outputs": [
    {
     "ename": "",
     "evalue": "",
     "output_type": "error",
     "traceback": [
      "\u001b[1;31mJupyter cannot be started. Error attempting to locate Jupyter: Running cells with 'Python 3.10.5 ('.venv': poetry)' requires notebook package.\n",
      "\u001b[1;31mRun the following command to install 'jupyter and notebook' into the Python environment. \n",
      "\u001b[1;31mCommand: 'python -m pip install jupyter notebook -U\n",
      "\u001b[1;31mor\n",
      "\u001b[1;31mconda install jupyter notebook -U'\n",
      "\u001b[1;31mClick <a href='https://aka.ms/installJupyterForVSCode'>here</a> for more info."
     ]
    }
   ],
   "source": [
    "# Mac/Unix\n",
    "\n",
    "# This method sets them in your local session i.e. when you restart the terminal you will have to reset this\n",
    "\n",
    "export CLIENT_ID=<client_id>\n",
    "export CLIENT_SECRET=<client_secret>\n",
    "\n",
    "# To add it to your profile permanently, open your bash profile with your favourite editor e.g\n",
    "\n",
    "nano  ~/.bash_profile # (bash users)\n",
    "nano ~/.zshrc # (zsh users)\n",
    "\n",
    "# Then add the export lines as above and save it"
   ]
  },
  {
   "cell_type": "code",
   "execution_count": 66,
   "metadata": {},
   "outputs": [],
   "source": [
    "import os\n",
    "\n",
    "# ** Only do this if you're not sharing your scripts or pushing them to Github because we're hardcoding privileged info here! ** \n",
    "client_id = \"TFlrcIukpDcD2NqwykoL0hOAFzmtZWWC\"\n",
    "client_secret = \"KC8rO3uKlyD4PrmAfGioS6Qf_32cBofxlWf6lqW6YV_6SEfaOscXQr7EoA21kUXO\"\n",
    "\n",
    "os.environ[\"CLIENT_ID\"] = client_id\n",
    "os.environ[\"CLIENT_SECRET\"] = client_secret"
   ]
  },
  {
   "cell_type": "markdown",
   "metadata": {},
   "source": [
    "## Using the SDK\n",
    "\n",
    "Great now we're all set up to start using the SDK! Let's instantiate the Satellite Vu Client which will help us interact with our APIs!"
   ]
  },
  {
   "cell_type": "code",
   "execution_count": 67,
   "metadata": {},
   "outputs": [
    {
     "data": {
      "text/plain": [
       "'TFlrcIukpDcD2NqwykoL0hOAFzmtZWWC'"
      ]
     },
     "execution_count": 67,
     "metadata": {},
     "output_type": "execute_result"
    }
   ],
   "source": [
    "import os\n",
    "from satellitevu.client import Client\n",
    "\n",
    "client_id = os.environ[\"CLIENT_ID\"]\n",
    "client_secret = os.environ[\"CLIENT_SECRET\"]\n",
    "\n",
    "client = Client(client_id=client_id, client_secret=client_secret)\n",
    "client_id"
   ]
  },
  {
   "cell_type": "markdown",
   "metadata": {},
   "source": [
    "### Archive Searching\n",
    "\n",
    "The API documentation for this can be found at https://api.qa.satellitevu.com/archive/v1/docs. For searching, all the parameters available in the API should work in the SDK. Although they may not be presented as defined args, you can still pass them in using **kwargs"
   ]
  },
  {
   "cell_type": "code",
   "execution_count": 68,
   "metadata": {},
   "outputs": [
    {
     "name": "stdout",
     "output_type": "stream",
     "text": [
      "Total Results: 141\n",
      "Returned results: 100\n"
     ]
    },
    {
     "data": {
      "text/plain": [
       "{'type': 'Feature',\n",
       " 'geometry': {'coordinates': [[[-0.1819961150368847, 51.49543106733],\n",
       "    [-0.2030703533053093, 51.49470818512379],\n",
       "    [-0.2041498470340876, 51.47707392977891],\n",
       "    [-0.1820247372977877, 51.47780314988645],\n",
       "    [-0.1799446594695727, 51.48373425158267],\n",
       "    [-0.17998843703230455, 51.489559043106354],\n",
       "    [-0.1819961150368847, 51.49543106733]]],\n",
       "  'type': 'Polygon'},\n",
       " 'properties': {'created': '2022-10-07T08:39:49.387866+00:00',\n",
       "  'updated': '2022-10-07T08:39:49.387866+00:00',\n",
       "  'platform': 'tabi',\n",
       "  'gsd': 3.5,\n",
       "  'datetime': '2022-08-30T23:49:59+00:00',\n",
       "  'proj:shape': [1280, 1024],\n",
       "  'created_at': '2022-10-07T08:39:47Z',\n",
       "  'eo:cloud_cover': 0,\n",
       "  'proj:bbox': [694146.0, 5705451.0, 697730.0, 5709931.0],\n",
       "  'proj:geometry': {'type': 'Polygon',\n",
       "   'coordinates': [[[695607.25, 5708686.75],\n",
       "     [694147.75, 5708550.25],\n",
       "     [694147.75, 5706586.75],\n",
       "     [695680.75, 5706726.75],\n",
       "     [695799.75, 5707391.75],\n",
       "     [695771.75, 5708039.25],\n",
       "     [695607.25, 5708686.75]]]},\n",
       "  'view:off_nadir': 3.8,\n",
       "  'proj:transform': [3.5, 0.0, 694146.0, 0.0, -3.5, 5709931.0, 0.0, 0.0, 1.0],\n",
       "  'view:sun_azimuth': 356.7925710916644,\n",
       "  'view:azimuth': 82.8,\n",
       "  'proj:epsg': 32630,\n",
       "  'view:sun_elevation': -29.772064692837247},\n",
       " 'id': '20220830T234959000_basic_0_TABI',\n",
       " 'bbox': [-0.2041498470340876,\n",
       "  51.47707392977891,\n",
       "  -0.1799446594695727,\n",
       "  51.49543106733],\n",
       " 'stac_version': '1.0.0',\n",
       " 'assets': {'udm': {'href': 's3://stac-ingestion/stac-ingestion/TABI/20220830T234959000_basic_0_TABI_udm.tiff',\n",
       "   'type': 'image/tiff; application=geotiff; profile=cloud-optimized',\n",
       "   'roles': ['udm', 'metadata']},\n",
       "  'overview': {'href': 's3://stac-ingestion/stac-ingestion/TABI/20220830T234959000_basic_0_TABI_overview.png',\n",
       "   'type': 'image/png',\n",
       "   'roles': ['overview']},\n",
       "  'thumbnail': {'href': 'https://s3.eu-west-2.amazonaws.com/assets.qa.satellitevu.com/stac-ingestion/TABI/20220830T234959000_basic_0_TABI_thumbnail.png',\n",
       "   'type': 'image/png',\n",
       "   'roles': ['thumbnail']},\n",
       "  'brightness-temperature': {'href': 's3://stac-ingestion/stac-ingestion/TABI/20220830T234959000_basic_0_TABI.tiff',\n",
       "   'type': 'image/tiff; application=geotiff; profile=cloud-optimized',\n",
       "   'roles': ['brightness-temperature', 'data'],\n",
       "   'raster:bands': [{'scale': 1.0,\n",
       "     'nodata': 0.0,\n",
       "     'offset': 0.0,\n",
       "     'sampling': 'area',\n",
       "     'data_type': 'float32',\n",
       "     'statistics': {'mean': 286.51053812714804,\n",
       "      'stddev': 0.6425117690416109,\n",
       "      'maximum': 289.3612060546875,\n",
       "      'minimum': 279.309814453125,\n",
       "      'valid_percent': 19.44610595703125}}]}},\n",
       " 'links': [{'href': 'https://api.qa.satellitevu.com/archive/v1/collections/basic/items/20220830T234959000_basic_0_TABI',\n",
       "   'rel': 'self',\n",
       "   'type': 'application/geo+json'},\n",
       "  {'href': 'https://api.qa.satellitevu.com/archive/v1/collections/basic',\n",
       "   'rel': 'parent',\n",
       "   'type': 'application/json'},\n",
       "  {'href': 'https://api.qa.satellitevu.com/archive/v1/collections/basic',\n",
       "   'rel': 'collection',\n",
       "   'type': 'application/json'},\n",
       "  {'href': 'https://api.qa.satellitevu.com/archive/v1/',\n",
       "   'rel': 'root',\n",
       "   'type': 'application/json'}],\n",
       " 'stac_extensions': ['https://stac-extensions.github.io/projection/v1.0.0/schema.json',\n",
       "  'https://stac-extensions.github.io/raster/v1.1.0/schema.json',\n",
       "  'https://stac-extensions.github.io/view/v1.0.0/schema.json',\n",
       "  'https://stac-extensions.github.io/eo/v1.0.0/schema.json'],\n",
       " 'collection': 'basic'}"
      ]
     },
     "execution_count": 68,
     "metadata": {},
     "output_type": "execute_result"
    }
   ],
   "source": [
    "from datetime import datetime, timedelta\n",
    "\n",
    "# A search for the 100 most recent images in London over the past 2 months, sorted by most to least recent\n",
    "search_params = {\n",
    "    \"bbox\": [-1.065151, 51.163899, 0.457906, 51.802226], \n",
    "    \"date_from\": datetime.utcnow() - timedelta(days=60),\n",
    "    \"date_to\": datetime.utcnow(),\n",
    "    \"limit\" : 100,\n",
    "    \"sortby\": [{\"field\": \"datetime\", \"direction\": \"desc\"}]\n",
    "}\n",
    "\n",
    "# Perform the search\n",
    "london_search = client.archive_v1.search(**search_params)\n",
    "\n",
    "# The search returns what the API does (i.e. a Response object from a web request) so we can check the status to see if it has been successful\n",
    "if london_search.status != 200:\n",
    "    raise Exception(f\"Error: {london_search.status} - {london_search.text}\")\n",
    "\n",
    "search_results = london_search.json()\n",
    "\n",
    "print (f\"Total Results: {search_results['context']['matched']}\") \n",
    "print (f\"Returned results: {search_results['context']['returned']}\")\n",
    "\n",
    "stac_items = search_results[\"features\"]\n",
    "stac_items[0]"
   ]
  },
  {
   "cell_type": "code",
   "execution_count": 62,
   "metadata": {},
   "outputs": [
    {
     "name": "stdout",
     "output_type": "stream",
     "text": [
      "[[-0.1819961150368847, 51.49543106733], [-0.2030703533053093, 51.49470818512379], [-0.2041498470340876, 51.47707392977891], [-0.1820247372977877, 51.47780314988645], [-0.1799446594695727, 51.48373425158267], [-0.17998843703230455, 51.489559043106354], [-0.1819961150368847, 51.49543106733]]\n"
     ]
    }
   ],
   "source": [
    "import json\n",
    "import geopandas as gpd\n",
    "import pandas as pd\n",
    "\n",
    "\n",
    "for item in stac_items:\n",
    "    coords = item[\"geometry\"][\"coordinates\"]\n",
    "    print (coords[0])\n",
    "    break\n",
    "# print(geomtries1)\n",
    "# print(geomtries)\n",
    "\n",
    "# stac_gdf = gpd.GeoDataFrame.from_features(search_results).set_index(pd.json_normalize(search_results[\"features\"])[\"id\"].values)\n",
    "# stac_gdf.set_crs(epsg=32630, inplace=True)\n",
    "# stac_gdf.to_crs(4326)\n",
    "# stac_gdf.geometry.centroid.x\n"
   ]
  },
  {
   "cell_type": "code",
   "execution_count": null,
   "metadata": {},
   "outputs": [],
   "source": [
    "import folium\n",
    "\n",
    "x1,y1,x2,y2 = stac_gdf['geometry'].total_bounds\n",
    "print (x1,y1,x2,y2)\n",
    "style = {'fillColor': '#228B22', 'color': '#228B22'}\n",
    "\n",
    "map = folium.Map(location=[y1,x1], tiles='openstreetmap')\n",
    "\n",
    "# map.fit_bounds([[y2, x1], [y1, x2]])\n",
    "folium.GeoJson(stac_gdf[\"geometry\"], style_function=lambda x:style).add_to(map)\n",
    "map"
   ]
  },
  {
   "cell_type": "markdown",
   "metadata": {},
   "source": [
    "### Orders and Downloads\n",
    "\n",
    "The client can be used to programatically submit orders (of multiple items) and subsequently download them."
   ]
  },
  {
   "cell_type": "code",
   "execution_count": 70,
   "metadata": {},
   "outputs": [
    {
     "name": "stdout",
     "output_type": "stream",
     "text": [
      "['20220830T234959000_basic_0_TABI', '20220830T234958000_basic_0_TABI', '20220830T234957000_basic_0_TABI', '20220830T234956000_basic_0_TABI', '20220830T234955000_basic_0_TABI']\n",
      "Order ID: 26d467e4-381a-4fba-b486-f1b277b4bc72\n"
     ]
    }
   ],
   "source": [
    "# Submitting an Order\n",
    "\n",
    "stac_item_ids = [item[\"id\"] for item in stac_items]\n",
    "my_items = stac_item_ids[:5]\n",
    "print (my_items)\n",
    "\n",
    "my_order = client.orders_v1.submit(item_ids=my_items)\n",
    "\n",
    "if my_order.status != 201:\n",
    "    raise Exception(f\"Error: {my_order.status} - {my_order.text}\")\n",
    "\n",
    "# Within this JSON you will receive an order ID. You will need this to download your imagery.\n",
    "my_order_json = my_order.json()\n",
    "my_order_id = my_order_json[\"id\"]\n",
    "print (f\"Order ID: {my_order_id}\")\n",
    "\n"
   ]
  },
  {
   "cell_type": "code",
   "execution_count": 75,
   "metadata": {},
   "outputs": [
    {
     "ename": "TypeError",
     "evalue": "argument should be integer or None, not 'bytes'",
     "output_type": "error",
     "traceback": [
      "\u001b[0;31m---------------------------------------------------------------------------\u001b[0m",
      "\u001b[0;31mTypeError\u001b[0m                                 Traceback (most recent call last)",
      "Cell \u001b[0;32mIn [75], line 7\u001b[0m\n\u001b[1;32m      1\u001b[0m \u001b[38;5;66;03m# Downloading an order\u001b[39;00m\n\u001b[1;32m      2\u001b[0m \n\u001b[1;32m      3\u001b[0m \u001b[38;5;66;03m# Download the whole order - this will download all the imagery from that Order ID into a zip file at the location of your choice.\u001b[39;00m\n\u001b[1;32m      4\u001b[0m \u001b[38;5;66;03m# The ZIP file will be name SatelliteVu_<order_id>.zip\u001b[39;00m\n\u001b[1;32m      5\u001b[0m \u001b[38;5;66;03m# The path of this zip file is the return from the methof\u001b[39;00m\n\u001b[0;32m----> 7\u001b[0m downloaded_order \u001b[38;5;241m=\u001b[39m \u001b[43mclient\u001b[49m\u001b[38;5;241;43m.\u001b[39;49m\u001b[43morders_v1\u001b[49m\u001b[38;5;241;43m.\u001b[39;49m\u001b[43mdownload_order\u001b[49m\u001b[43m(\u001b[49m\u001b[43morder_id\u001b[49m\u001b[38;5;241;43m=\u001b[39;49m\u001b[43mmy_order_id\u001b[49m\u001b[43m,\u001b[49m\u001b[43m \u001b[49m\u001b[43mdestdir\u001b[49m\u001b[38;5;241;43m=\u001b[39;49m\u001b[38;5;124;43m\"\u001b[39;49m\u001b[38;5;124;43m/Users/zhelinisivanesan/Downloads\u001b[39;49m\u001b[38;5;124;43m\"\u001b[39;49m\u001b[43m)\u001b[49m\n\u001b[1;32m      8\u001b[0m \u001b[38;5;28mprint\u001b[39m (downloaded_order)\n\u001b[1;32m     11\u001b[0m \u001b[38;5;66;03m# Download an individal item in the order\u001b[39;00m\n",
      "File \u001b[0;32m/Library/Frameworks/Python.framework/Versions/3.10/lib/python3.10/site-packages/satellitevu/apis/orders.py:162\u001b[0m, in \u001b[0;36mOrdersV1.download_order\u001b[0;34m(self, order_id, destdir)\u001b[0m\n\u001b[1;32m    159\u001b[0m order_id \u001b[39m=\u001b[39m order_details[\u001b[39m\"\u001b[39m\u001b[39mid\u001b[39m\u001b[39m\"\u001b[39m]\n\u001b[1;32m    160\u001b[0m item_ids \u001b[39m=\u001b[39m [i[\u001b[39m\"\u001b[39m\u001b[39mproperties\u001b[39m\u001b[39m\"\u001b[39m][\u001b[39m\"\u001b[39m\u001b[39mitem_id\u001b[39m\u001b[39m\"\u001b[39m] \u001b[39mfor\u001b[39;00m i \u001b[39min\u001b[39;00m order_details[\u001b[39m\"\u001b[39m\u001b[39mfeatures\u001b[39m\u001b[39m\"\u001b[39m]]\n\u001b[0;32m--> 162\u001b[0m \u001b[39mreturn\u001b[39;00m \u001b[39mself\u001b[39;49m\u001b[39m.\u001b[39;49m_save_order_to_zip(destdir, order_id, item_ids)\n",
      "File \u001b[0;32m/Library/Frameworks/Python.framework/Versions/3.10/lib/python3.10/site-packages/satellitevu/apis/orders.py:168\u001b[0m, in \u001b[0;36mOrdersV1._save_order_to_zip\u001b[0;34m(self, destdir, order_id, item_ids)\u001b[0m\n\u001b[1;32m    166\u001b[0m \u001b[39mwith\u001b[39;00m tempfile\u001b[39m.\u001b[39mTemporaryDirectory(\u001b[39mdir\u001b[39m\u001b[39m=\u001b[39mdestdir) \u001b[39mas\u001b[39;00m tmpdir:\n\u001b[1;32m    167\u001b[0m     \u001b[39mfor\u001b[39;00m item_id \u001b[39min\u001b[39;00m item_ids:\n\u001b[0;32m--> 168\u001b[0m         \u001b[39mself\u001b[39;49m\u001b[39m.\u001b[39;49mdownload_item(order_id, item_id, tmpdir)\n\u001b[1;32m    170\u001b[0m     zipfile \u001b[39m=\u001b[39m shutil\u001b[39m.\u001b[39mmake_archive(destzip, \u001b[39m\"\u001b[39m\u001b[39mzip\u001b[39m\u001b[39m\"\u001b[39m, tmpdir)\n\u001b[1;32m    172\u001b[0m \u001b[39mreturn\u001b[39;00m zipfile\n",
      "File \u001b[0;32m/Library/Frameworks/Python.framework/Versions/3.10/lib/python3.10/site-packages/satellitevu/apis/orders.py:138\u001b[0m, in \u001b[0;36mOrdersV1.download_item\u001b[0;34m(self, order_id, item_id, destdir)\u001b[0m\n\u001b[1;32m    135\u001b[0m response \u001b[39m=\u001b[39m \u001b[39mself\u001b[39m\u001b[39m.\u001b[39mclient\u001b[39m.\u001b[39mrequest(method\u001b[39m=\u001b[39m\u001b[39m\"\u001b[39m\u001b[39mGET\u001b[39m\u001b[39m\"\u001b[39m, url\u001b[39m=\u001b[39mitem_url)\n\u001b[1;32m    137\u001b[0m destfile \u001b[39m=\u001b[39m os\u001b[39m.\u001b[39mpath\u001b[39m.\u001b[39mjoin(destdir, \u001b[39mf\u001b[39m\u001b[39m\"\u001b[39m\u001b[39m{\u001b[39;00mitem_id\u001b[39m}\u001b[39;00m\u001b[39m.zip\u001b[39m\u001b[39m\"\u001b[39m)\n\u001b[0;32m--> 138\u001b[0m data \u001b[39m=\u001b[39m raw_response_to_bytes(response)\n\u001b[1;32m    140\u001b[0m \u001b[39mreturn\u001b[39;00m bytes_to_file(data, destfile)\n",
      "File \u001b[0;32m/Library/Frameworks/Python.framework/Versions/3.10/lib/python3.10/site-packages/satellitevu/apis/orders.py:26\u001b[0m, in \u001b[0;36mraw_response_to_bytes\u001b[0;34m(response)\u001b[0m\n\u001b[1;32m     24\u001b[0m     data \u001b[39m=\u001b[39m BytesIO()\n\u001b[1;32m     25\u001b[0m     \u001b[39mfor\u001b[39;00m chunk \u001b[39min\u001b[39;00m raw_response\u001b[39m.\u001b[39miter_content():\n\u001b[0;32m---> 26\u001b[0m         data\u001b[39m.\u001b[39;49mread(chunk)\n\u001b[1;32m     27\u001b[0m \u001b[39melse\u001b[39;00m:\n\u001b[1;32m     28\u001b[0m     \u001b[39mraise\u001b[39;00m \u001b[39mException\u001b[39;00m(\u001b[39m\"\u001b[39m\u001b[39mCannot convert Response object into byte stream.\u001b[39m\u001b[39m\"\u001b[39m)\n",
      "\u001b[0;31mTypeError\u001b[0m: argument should be integer or None, not 'bytes'"
     ]
    }
   ],
   "source": [
    "# Downloading an order\n",
    "\n",
    "# Download the whole order - this will download all the imagery from that Order ID into a zip file at the location of your choice.\n",
    "# The ZIP file will be name SatelliteVu_<order_id>.zip\n",
    "# The path of this zip file is the return from the methof\n",
    "\n",
    "downloaded_order = client.orders_v1.download_order(order_id=my_order_id, destdir=\"/Users/zhelinisivanesan/Downloads\")\n",
    "print (downloaded_order)\n",
    "\n",
    "\n",
    "# Download an individal item in the order. The file will be named <item_id>.zip\n",
    "\n",
    "download_item = client.orders_v1.download_item(order_id=my_order_id, item_id=my_items[0], destdir=\"/Users/zhelinisivanesan/Downloads\")\n",
    "print (download_item)"
   ]
  }
 ],
 "metadata": {
  "kernelspec": {
   "display_name": "Python 3.10.5 64-bit",
   "language": "python",
   "name": "python3"
  },
  "language_info": {
   "codemirror_mode": {
    "name": "ipython",
    "version": 3
   },
   "file_extension": ".py",
   "mimetype": "text/x-python",
   "name": "python",
   "nbconvert_exporter": "python",
   "pygments_lexer": "ipython3",
   "version": "3.10.5"
  },
  "orig_nbformat": 4,
  "vscode": {
   "interpreter": {
    "hash": "aee8b7b246df8f9039afb4144a1f6fd8d2ca17a180786b69acc140d282b71a49"
   }
  }
 },
 "nbformat": 4,
 "nbformat_minor": 2
}
